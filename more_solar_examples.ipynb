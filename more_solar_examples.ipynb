{
 "cells": [
  {
   "cell_type": "markdown",
   "metadata": {},
   "source": [
    "## Forecasting Multiple Sites and Multiple Initialization Times\n",
    "\n",
    "This notebok builds on [solar_example.ipynb](solar_example.ipynb) by forecasting multiple sites and then by running forecasts with multiple initialization times (i.e., intra-day forecasts produced every day for several days in a row).\n",
    "\n",
    "Most of the time required to make a forecast is downloading the grib files, which cover the whole forecast region (global, in the case of GFS and IFS). Herbie's `pick_points` [1] then efficiently gets data from one or more points of interest. This means that forecasting many sites is only marginally slower than forecasting a single site. \n",
    "\n",
    "[1] https://herbie.readthedocs.io/en/2024.5.0/user_guide/tutorial/accessor_notebooks/pick_points.html"
   ]
  },
  {
   "cell_type": "code",
   "execution_count": 1,
   "metadata": {},
   "outputs": [],
   "source": [
    "import matplotlib.pyplot as plt\n",
    "from pv_model import model_pv_power\n",
    "from forecast_solar import get_solar_forecast\n",
    "import pandas as pd"
   ]
  },
  {
   "cell_type": "code",
   "execution_count": 2,
   "metadata": {},
   "outputs": [
    {
     "data": {
      "text/html": [
       "<div>\n",
       "<style scoped>\n",
       "    .dataframe tbody tr th:only-of-type {\n",
       "        vertical-align: middle;\n",
       "    }\n",
       "\n",
       "    .dataframe tbody tr th {\n",
       "        vertical-align: top;\n",
       "    }\n",
       "\n",
       "    .dataframe thead th {\n",
       "        text-align: right;\n",
       "    }\n",
       "</style>\n",
       "<table border=\"1\" class=\"dataframe\">\n",
       "  <thead>\n",
       "    <tr style=\"text-align: right;\">\n",
       "      <th></th>\n",
       "      <th>latitude</th>\n",
       "      <th>longitude</th>\n",
       "      <th>mount_type</th>\n",
       "      <th>gcr</th>\n",
       "      <th>nameplate_dc</th>\n",
       "      <th>nameplate_ac</th>\n",
       "      <th>dc_loss_fraction</th>\n",
       "      <th>gamma_pdc</th>\n",
       "      <th>shade_loss_model</th>\n",
       "      <th>backtrack</th>\n",
       "      <th>max_tracker_angle</th>\n",
       "      <th>fixed_azimuth</th>\n",
       "      <th>fixed_tilt</th>\n",
       "    </tr>\n",
       "  </thead>\n",
       "  <tbody>\n",
       "    <tr>\n",
       "      <th>0</th>\n",
       "      <td>33.5</td>\n",
       "      <td>-86.8</td>\n",
       "      <td>single-axis</td>\n",
       "      <td>0.40</td>\n",
       "      <td>120</td>\n",
       "      <td>100</td>\n",
       "      <td>0.1</td>\n",
       "      <td>-0.003</td>\n",
       "      <td>linear</td>\n",
       "      <td>False</td>\n",
       "      <td>60.0</td>\n",
       "      <td>NaN</td>\n",
       "      <td>NaN</td>\n",
       "    </tr>\n",
       "    <tr>\n",
       "      <th>1</th>\n",
       "      <td>33.8</td>\n",
       "      <td>-84.4</td>\n",
       "      <td>fixed</td>\n",
       "      <td>0.60</td>\n",
       "      <td>60</td>\n",
       "      <td>50</td>\n",
       "      <td>0.1</td>\n",
       "      <td>-0.003</td>\n",
       "      <td>non-linear_simple_twin_module</td>\n",
       "      <td>None</td>\n",
       "      <td>NaN</td>\n",
       "      <td>180.0</td>\n",
       "      <td>20.0</td>\n",
       "    </tr>\n",
       "    <tr>\n",
       "      <th>2</th>\n",
       "      <td>32.8</td>\n",
       "      <td>-83.6</td>\n",
       "      <td>single-axis</td>\n",
       "      <td>0.35</td>\n",
       "      <td>100</td>\n",
       "      <td>80</td>\n",
       "      <td>0.2</td>\n",
       "      <td>-0.003</td>\n",
       "      <td>non-linear_simple</td>\n",
       "      <td>True</td>\n",
       "      <td>50.0</td>\n",
       "      <td>NaN</td>\n",
       "      <td>NaN</td>\n",
       "    </tr>\n",
       "    <tr>\n",
       "      <th>3</th>\n",
       "      <td>32.1</td>\n",
       "      <td>-81.1</td>\n",
       "      <td>fixed</td>\n",
       "      <td>0.35</td>\n",
       "      <td>60</td>\n",
       "      <td>50</td>\n",
       "      <td>0.1</td>\n",
       "      <td>-0.003</td>\n",
       "      <td>non-linear_simple</td>\n",
       "      <td>None</td>\n",
       "      <td>NaN</td>\n",
       "      <td>180.0</td>\n",
       "      <td>15.0</td>\n",
       "    </tr>\n",
       "  </tbody>\n",
       "</table>\n",
       "</div>"
      ],
      "text/plain": [
       "   latitude  longitude   mount_type   gcr  nameplate_dc  nameplate_ac  \\\n",
       "0      33.5      -86.8  single-axis  0.40           120           100   \n",
       "1      33.8      -84.4        fixed  0.60            60            50   \n",
       "2      32.8      -83.6  single-axis  0.35           100            80   \n",
       "3      32.1      -81.1        fixed  0.35            60            50   \n",
       "\n",
       "   dc_loss_fraction  gamma_pdc               shade_loss_model backtrack  \\\n",
       "0               0.1     -0.003                         linear     False   \n",
       "1               0.1     -0.003  non-linear_simple_twin_module      None   \n",
       "2               0.2     -0.003              non-linear_simple      True   \n",
       "3               0.1     -0.003              non-linear_simple      None   \n",
       "\n",
       "   max_tracker_angle  fixed_azimuth  fixed_tilt  \n",
       "0               60.0            NaN         NaN  \n",
       "1                NaN          180.0        20.0  \n",
       "2               50.0            NaN         NaN  \n",
       "3                NaN          180.0        15.0  "
      ]
     },
     "execution_count": 2,
     "metadata": {},
     "output_type": "execute_result"
    }
   ],
   "source": [
    "# Define specs for 4 plants. Two tracking, two fixed-tilt. \n",
    "# This could also be stored in a csv or spreadsheet and read in as a dataframe.\n",
    "plants_dict = {\n",
    "    'latitude': [33.5, 33.8, 32.8, 32.1],\n",
    "    'longitude': [-86.8, -84.4, -83.6, -81.1],\n",
    "    'mount_type': ['single-axis', 'fixed', 'single-axis', 'fixed'],\n",
    "    'gcr': [0.4, 0.6, 0.35, 0.35],\n",
    "    'nameplate_dc': [120, 60, 100, 60],\n",
    "    'nameplate_ac': [100, 50, 80, 50],\n",
    "    'dc_loss_fraction': [0.1, 0.1, 0.2, 0.1],\n",
    "    'gamma_pdc': [-0.003, -0.003, -0.003, -0.003],\n",
    "    'shade_loss_model': ['linear', 'non-linear_simple_twin_module', 'non-linear_simple', 'non-linear_simple'],\n",
    "    'backtrack': [False, None, True, None],\n",
    "    'max_tracker_angle': [60, None, 50, None],\n",
    "    'fixed_azimuth': [None, 180, None, 180],\n",
    "    'fixed_tilt': [None, 20, None, 15],\n",
    "}\n",
    "\n",
    "# create a datafream\n",
    "plants_df = pd.DataFrame(plants_dict)\n",
    "\n",
    "# look at the dataframe\n",
    "plants_df.head()"
   ]
  },
  {
   "cell_type": "code",
   "execution_count": 3,
   "metadata": {},
   "outputs": [
    {
     "data": {
      "text/plain": [
       "{'latitude': 33.5,\n",
       " 'longitude': -86.8,\n",
       " 'mount_type': 'single-axis',\n",
       " 'gcr': 0.4,\n",
       " 'nameplate_dc': 120,\n",
       " 'nameplate_ac': 100,\n",
       " 'dc_loss_fraction': 0.1,\n",
       " 'gamma_pdc': -0.003,\n",
       " 'shade_loss_model': 'linear',\n",
       " 'backtrack': False,\n",
       " 'max_tracker_angle': 60.0}"
      ]
     },
     "execution_count": 3,
     "metadata": {},
     "output_type": "execute_result"
    }
   ],
   "source": [
    "# demonstrate getting specs for the first plant:\n",
    "plants_df.loc[0].dropna().to_dict()"
   ]
  },
  {
   "cell_type": "code",
   "execution_count": 4,
   "metadata": {},
   "outputs": [
    {
     "name": "stdout",
     "output_type": "stream",
     "text": [
      "✅ Found ┊ model=ifs ┊ \u001b[3mproduct=scda\u001b[0m ┊ \u001b[38;2;41;130;13m2024-Jun-05 06:00 UTC\u001b[92m F03\u001b[0m ┊ \u001b[38;2;255;153;0m\u001b[3mGRIB2 @ aws\u001b[0m ┊ \u001b[38;2;255;153;0m\u001b[3mIDX @ aws\u001b[0m\n",
      "Note: Returning a list of [3] xarray.Datasets because cfgrib opened with multiple hypercubes.\n",
      "✅ Found ┊ model=ifs ┊ \u001b[3mproduct=scda\u001b[0m ┊ \u001b[38;2;41;130;13m2024-Jun-05 06:00 UTC\u001b[92m F06\u001b[0m ┊ \u001b[38;2;255;153;0m\u001b[3mGRIB2 @ aws\u001b[0m ┊ \u001b[38;2;255;153;0m\u001b[3mIDX @ aws\u001b[0m\n",
      "Note: Returning a list of [3] xarray.Datasets because cfgrib opened with multiple hypercubes.\n",
      "✅ Found ┊ model=ifs ┊ \u001b[3mproduct=scda\u001b[0m ┊ \u001b[38;2;41;130;13m2024-Jun-05 06:00 UTC\u001b[92m F09\u001b[0m ┊ \u001b[38;2;255;153;0m\u001b[3mGRIB2 @ aws\u001b[0m ┊ \u001b[38;2;255;153;0m\u001b[3mIDX @ aws\u001b[0m\n",
      "Note: Returning a list of [3] xarray.Datasets because cfgrib opened with multiple hypercubes.\n",
      "✅ Found ┊ model=ifs ┊ \u001b[3mproduct=scda\u001b[0m ┊ \u001b[38;2;41;130;13m2024-Jun-05 06:00 UTC\u001b[92m F12\u001b[0m ┊ \u001b[38;2;255;153;0m\u001b[3mGRIB2 @ aws\u001b[0m ┊ \u001b[38;2;255;153;0m\u001b[3mIDX @ aws\u001b[0m\n"
     ]
    },
    {
     "name": "stderr",
     "output_type": "stream",
     "text": [
      "c:\\Users\\willh\\miniforge3\\envs\\pvsc_forecaster_2025\\Lib\\site-packages\\herbie\\core.py:1112: UserWarning: Will not remove GRIB file because it previously existed.\n",
      "  warnings.warn(\"Will not remove GRIB file because it previously existed.\")\n"
     ]
    },
    {
     "name": "stdout",
     "output_type": "stream",
     "text": [
      "Note: Returning a list of [3] xarray.Datasets because cfgrib opened with multiple hypercubes.\n",
      "✅ Found ┊ model=ifs ┊ \u001b[3mproduct=scda\u001b[0m ┊ \u001b[38;2;41;130;13m2024-Jun-05 06:00 UTC\u001b[92m F15\u001b[0m ┊ \u001b[38;2;255;153;0m\u001b[3mGRIB2 @ aws\u001b[0m ┊ \u001b[38;2;255;153;0m\u001b[3mIDX @ aws\u001b[0m\n",
      "Note: Returning a list of [3] xarray.Datasets because cfgrib opened with multiple hypercubes.\n",
      "✅ Found ┊ model=ifs ┊ \u001b[3mproduct=scda\u001b[0m ┊ \u001b[38;2;41;130;13m2024-Jun-05 06:00 UTC\u001b[92m F18\u001b[0m ┊ \u001b[38;2;255;153;0m\u001b[3mGRIB2 @ aws\u001b[0m ┊ \u001b[38;2;255;153;0m\u001b[3mIDX @ aws\u001b[0m\n",
      "Note: Returning a list of [3] xarray.Datasets because cfgrib opened with multiple hypercubes.\n",
      "✅ Found ┊ model=ifs ┊ \u001b[3mproduct=scda\u001b[0m ┊ \u001b[38;2;41;130;13m2024-Jun-05 06:00 UTC\u001b[92m F21\u001b[0m ┊ \u001b[38;2;255;153;0m\u001b[3mGRIB2 @ aws\u001b[0m ┊ \u001b[38;2;255;153;0m\u001b[3mIDX @ aws\u001b[0m\n",
      "Note: Returning a list of [3] xarray.Datasets because cfgrib opened with multiple hypercubes.\n"
     ]
    }
   ],
   "source": [
    "# get a forecast for all plants\n",
    "latitudes = plants_df.latitude.values\n",
    "longitudes = plants_df.longitude.values\n",
    "num_sites = len(latitudes)\n",
    "\n",
    "init_date = '2024-06-05 6:00'\n",
    "resource_data = get_solar_forecast(\n",
    "    latitude=latitudes,\n",
    "    longitude=longitudes,\n",
    "    init_date=init_date,\n",
    "    run_length=18, # 18 hours are included in the forecast\n",
    "    lead_time_to_start=3, # forecast starts 3 hours out from the init_date\n",
    "    model='ifs',\n",
    ")\n",
    "resource_data['albedo'] = 0.2 # set a value for albedo"
   ]
  },
  {
   "cell_type": "code",
   "execution_count": 5,
   "metadata": {},
   "outputs": [],
   "source": [
    "# calculate power for each plant\n",
    "power_dfs = {}\n",
    "num_sites = len(plants_df.index)\n",
    "for i in range(num_sites):\n",
    "    plant_data_dict = plants_df.loc[i].dropna().to_dict()\n",
    "    resource_data_temp = resource_data[resource_data['point']==i].copy()\n",
    "    power_ac_expected, resource_data_updated = model_pv_power(\n",
    "        resource_data=resource_data_temp,\n",
    "        **plant_data_dict,\n",
    "    )\n",
    "    power_dfs[i] = power_ac_expected"
   ]
  },
  {
   "cell_type": "code",
   "execution_count": 6,
   "metadata": {},
   "outputs": [
    {
     "data": {
      "text/plain": [
       "<Axes: xlabel='valid_time'>"
      ]
     },
     "execution_count": 6,
     "metadata": {},
     "output_type": "execute_result"
    },
    {
     "data": {
      "image/png": "[encoded data removed]",
      "text/plain": [
       "<Figure size 640x480 with 1 Axes>"
      ]
     },
     "metadata": {},
     "output_type": "display_data"
    }
   ],
   "source": [
    "# plot\n",
    "pd.concat(power_dfs,axis=1).plot(drawstyle='steps-mid')"
   ]
  },
  {
   "cell_type": "code",
   "execution_count": 7,
   "metadata": {},
   "outputs": [
    {
     "name": "stdout",
     "output_type": "stream",
     "text": [
      "✅ Found ┊ model=ifs ┊ \u001b[3mproduct=scda\u001b[0m ┊ \u001b[38;2;41;130;13m2024-Jun-05 06:00 UTC\u001b[92m F03\u001b[0m ┊ \u001b[38;2;255;153;0m\u001b[3mGRIB2 @ aws\u001b[0m ┊ \u001b[38;2;255;153;0m\u001b[3mIDX @ aws\u001b[0m\n",
      "Note: Returning a list of [3] xarray.Datasets because cfgrib opened with multiple hypercubes.\n",
      "✅ Found ┊ model=ifs ┊ \u001b[3mproduct=scda\u001b[0m ┊ \u001b[38;2;41;130;13m2024-Jun-05 06:00 UTC\u001b[92m F06\u001b[0m ┊ \u001b[38;2;255;153;0m\u001b[3mGRIB2 @ aws\u001b[0m ┊ \u001b[38;2;255;153;0m\u001b[3mIDX @ aws\u001b[0m\n",
      "Note: Returning a list of [3] xarray.Datasets because cfgrib opened with multiple hypercubes.\n",
      "✅ Found ┊ model=ifs ┊ \u001b[3mproduct=scda\u001b[0m ┊ \u001b[38;2;41;130;13m2024-Jun-05 06:00 UTC\u001b[92m F09\u001b[0m ┊ \u001b[38;2;255;153;0m\u001b[3mGRIB2 @ aws\u001b[0m ┊ \u001b[38;2;255;153;0m\u001b[3mIDX @ aws\u001b[0m\n",
      "Note: Returning a list of [3] xarray.Datasets because cfgrib opened with multiple hypercubes.\n",
      "✅ Found ┊ model=ifs ┊ \u001b[3mproduct=scda\u001b[0m ┊ \u001b[38;2;41;130;13m2024-Jun-05 06:00 UTC\u001b[92m F12\u001b[0m ┊ \u001b[38;2;255;153;0m\u001b[3mGRIB2 @ aws\u001b[0m ┊ \u001b[38;2;255;153;0m\u001b[3mIDX @ aws\u001b[0m\n"
     ]
    },
    {
     "name": "stderr",
     "output_type": "stream",
     "text": [
      "c:\\Users\\willh\\miniforge3\\envs\\pvsc_forecaster_2025\\Lib\\site-packages\\herbie\\core.py:1112: UserWarning: Will not remove GRIB file because it previously existed.\n",
      "  warnings.warn(\"Will not remove GRIB file because it previously existed.\")\n"
     ]
    },
    {
     "name": "stdout",
     "output_type": "stream",
     "text": [
      "Note: Returning a list of [3] xarray.Datasets because cfgrib opened with multiple hypercubes.\n",
      "✅ Found ┊ model=ifs ┊ \u001b[3mproduct=scda\u001b[0m ┊ \u001b[38;2;41;130;13m2024-Jun-05 06:00 UTC\u001b[92m F15\u001b[0m ┊ \u001b[38;2;255;153;0m\u001b[3mGRIB2 @ aws\u001b[0m ┊ \u001b[38;2;255;153;0m\u001b[3mIDX @ aws\u001b[0m\n",
      "Note: Returning a list of [3] xarray.Datasets because cfgrib opened with multiple hypercubes.\n",
      "✅ Found ┊ model=ifs ┊ \u001b[3mproduct=scda\u001b[0m ┊ \u001b[38;2;41;130;13m2024-Jun-05 06:00 UTC\u001b[92m F18\u001b[0m ┊ \u001b[38;2;255;153;0m\u001b[3mGRIB2 @ aws\u001b[0m ┊ \u001b[38;2;255;153;0m\u001b[3mIDX @ aws\u001b[0m\n",
      "Note: Returning a list of [3] xarray.Datasets because cfgrib opened with multiple hypercubes.\n",
      "✅ Found ┊ model=ifs ┊ \u001b[3mproduct=scda\u001b[0m ┊ \u001b[38;2;41;130;13m2024-Jun-05 06:00 UTC\u001b[92m F21\u001b[0m ┊ \u001b[38;2;255;153;0m\u001b[3mGRIB2 @ aws\u001b[0m ┊ \u001b[38;2;255;153;0m\u001b[3mIDX @ aws\u001b[0m\n",
      "Note: Returning a list of [3] xarray.Datasets because cfgrib opened with multiple hypercubes.\n",
      "✅ Found ┊ model=ifs ┊ \u001b[3mproduct=scda\u001b[0m ┊ \u001b[38;2;41;130;13m2024-Jun-06 06:00 UTC\u001b[92m F03\u001b[0m ┊ \u001b[38;2;255;153;0m\u001b[3mGRIB2 @ aws\u001b[0m ┊ \u001b[38;2;255;153;0m\u001b[3mIDX @ aws\u001b[0m\n",
      "Note: Returning a list of [3] xarray.Datasets because cfgrib opened with multiple hypercubes.\n",
      "✅ Found ┊ model=ifs ┊ \u001b[3mproduct=scda\u001b[0m ┊ \u001b[38;2;41;130;13m2024-Jun-06 06:00 UTC\u001b[92m F06\u001b[0m ┊ \u001b[38;2;255;153;0m\u001b[3mGRIB2 @ aws\u001b[0m ┊ \u001b[38;2;255;153;0m\u001b[3mIDX @ aws\u001b[0m\n",
      "Note: Returning a list of [3] xarray.Datasets because cfgrib opened with multiple hypercubes.\n",
      "✅ Found ┊ model=ifs ┊ \u001b[3mproduct=scda\u001b[0m ┊ \u001b[38;2;41;130;13m2024-Jun-06 06:00 UTC\u001b[92m F09\u001b[0m ┊ \u001b[38;2;255;153;0m\u001b[3mGRIB2 @ aws\u001b[0m ┊ \u001b[38;2;255;153;0m\u001b[3mIDX @ aws\u001b[0m\n",
      "Note: Returning a list of [3] xarray.Datasets because cfgrib opened with multiple hypercubes.\n",
      "✅ Found ┊ model=ifs ┊ \u001b[3mproduct=scda\u001b[0m ┊ \u001b[38;2;41;130;13m2024-Jun-06 06:00 UTC\u001b[92m F12\u001b[0m ┊ \u001b[38;2;255;153;0m\u001b[3mGRIB2 @ aws\u001b[0m ┊ \u001b[38;2;255;153;0m\u001b[3mIDX @ aws\u001b[0m\n",
      "Note: Returning a list of [3] xarray.Datasets because cfgrib opened with multiple hypercubes.\n",
      "✅ Found ┊ model=ifs ┊ \u001b[3mproduct=scda\u001b[0m ┊ \u001b[38;2;41;130;13m2024-Jun-06 06:00 UTC\u001b[92m F15\u001b[0m ┊ \u001b[38;2;255;153;0m\u001b[3mGRIB2 @ aws\u001b[0m ┊ \u001b[38;2;255;153;0m\u001b[3mIDX @ aws\u001b[0m\n",
      "Note: Returning a list of [3] xarray.Datasets because cfgrib opened with multiple hypercubes.\n",
      "✅ Found ┊ model=ifs ┊ \u001b[3mproduct=scda\u001b[0m ┊ \u001b[38;2;41;130;13m2024-Jun-06 06:00 UTC\u001b[92m F18\u001b[0m ┊ \u001b[38;2;255;153;0m\u001b[3mGRIB2 @ aws\u001b[0m ┊ \u001b[38;2;255;153;0m\u001b[3mIDX @ aws\u001b[0m\n",
      "Note: Returning a list of [3] xarray.Datasets because cfgrib opened with multiple hypercubes.\n",
      "✅ Found ┊ model=ifs ┊ \u001b[3mproduct=scda\u001b[0m ┊ \u001b[38;2;41;130;13m2024-Jun-06 06:00 UTC\u001b[92m F21\u001b[0m ┊ \u001b[38;2;255;153;0m\u001b[3mGRIB2 @ aws\u001b[0m ┊ \u001b[38;2;255;153;0m\u001b[3mIDX @ aws\u001b[0m\n",
      "Note: Returning a list of [3] xarray.Datasets because cfgrib opened with multiple hypercubes.\n",
      "✅ Found ┊ model=ifs ┊ \u001b[3mproduct=scda\u001b[0m ┊ \u001b[38;2;41;130;13m2024-Jun-07 06:00 UTC\u001b[92m F03\u001b[0m ┊ \u001b[38;2;255;153;0m\u001b[3mGRIB2 @ aws\u001b[0m ┊ \u001b[38;2;255;153;0m\u001b[3mIDX @ aws\u001b[0m\n",
      "Note: Returning a list of [3] xarray.Datasets because cfgrib opened with multiple hypercubes.\n",
      "✅ Found ┊ model=ifs ┊ \u001b[3mproduct=scda\u001b[0m ┊ \u001b[38;2;41;130;13m2024-Jun-07 06:00 UTC\u001b[92m F06\u001b[0m ┊ \u001b[38;2;255;153;0m\u001b[3mGRIB2 @ aws\u001b[0m ┊ \u001b[38;2;255;153;0m\u001b[3mIDX @ aws\u001b[0m\n",
      "Note: Returning a list of [3] xarray.Datasets because cfgrib opened with multiple hypercubes.\n",
      "✅ Found ┊ model=ifs ┊ \u001b[3mproduct=scda\u001b[0m ┊ \u001b[38;2;41;130;13m2024-Jun-07 06:00 UTC\u001b[92m F09\u001b[0m ┊ \u001b[38;2;255;153;0m\u001b[3mGRIB2 @ aws\u001b[0m ┊ \u001b[38;2;255;153;0m\u001b[3mIDX @ aws\u001b[0m\n",
      "Note: Returning a list of [3] xarray.Datasets because cfgrib opened with multiple hypercubes.\n",
      "✅ Found ┊ model=ifs ┊ \u001b[3mproduct=scda\u001b[0m ┊ \u001b[38;2;41;130;13m2024-Jun-07 06:00 UTC\u001b[92m F12\u001b[0m ┊ \u001b[38;2;255;153;0m\u001b[3mGRIB2 @ aws\u001b[0m ┊ \u001b[38;2;255;153;0m\u001b[3mIDX @ aws\u001b[0m\n",
      "Note: Returning a list of [3] xarray.Datasets because cfgrib opened with multiple hypercubes.\n",
      "✅ Found ┊ model=ifs ┊ \u001b[3mproduct=scda\u001b[0m ┊ \u001b[38;2;41;130;13m2024-Jun-07 06:00 UTC\u001b[92m F15\u001b[0m ┊ \u001b[38;2;255;153;0m\u001b[3mGRIB2 @ aws\u001b[0m ┊ \u001b[38;2;255;153;0m\u001b[3mIDX @ aws\u001b[0m\n",
      "Note: Returning a list of [3] xarray.Datasets because cfgrib opened with multiple hypercubes.\n",
      "✅ Found ┊ model=ifs ┊ \u001b[3mproduct=scda\u001b[0m ┊ \u001b[38;2;41;130;13m2024-Jun-07 06:00 UTC\u001b[92m F18\u001b[0m ┊ \u001b[38;2;255;153;0m\u001b[3mGRIB2 @ aws\u001b[0m ┊ \u001b[38;2;255;153;0m\u001b[3mIDX @ aws\u001b[0m\n",
      "Note: Returning a list of [3] xarray.Datasets because cfgrib opened with multiple hypercubes.\n",
      "✅ Found ┊ model=ifs ┊ \u001b[3mproduct=scda\u001b[0m ┊ \u001b[38;2;41;130;13m2024-Jun-07 06:00 UTC\u001b[92m F21\u001b[0m ┊ \u001b[38;2;255;153;0m\u001b[3mGRIB2 @ aws\u001b[0m ┊ \u001b[38;2;255;153;0m\u001b[3mIDX @ aws\u001b[0m\n",
      "Note: Returning a list of [3] xarray.Datasets because cfgrib opened with multiple hypercubes.\n",
      "✅ Found ┊ model=ifs ┊ \u001b[3mproduct=scda\u001b[0m ┊ \u001b[38;2;41;130;13m2024-Jun-08 06:00 UTC\u001b[92m F03\u001b[0m ┊ \u001b[38;2;255;153;0m\u001b[3mGRIB2 @ aws\u001b[0m ┊ \u001b[38;2;255;153;0m\u001b[3mIDX @ aws\u001b[0m\n",
      "Note: Returning a list of [3] xarray.Datasets because cfgrib opened with multiple hypercubes.\n",
      "✅ Found ┊ model=ifs ┊ \u001b[3mproduct=scda\u001b[0m ┊ \u001b[38;2;41;130;13m2024-Jun-08 06:00 UTC\u001b[92m F06\u001b[0m ┊ \u001b[38;2;255;153;0m\u001b[3mGRIB2 @ aws\u001b[0m ┊ \u001b[38;2;255;153;0m\u001b[3mIDX @ aws\u001b[0m\n",
      "Note: Returning a list of [3] xarray.Datasets because cfgrib opened with multiple hypercubes.\n",
      "✅ Found ┊ model=ifs ┊ \u001b[3mproduct=scda\u001b[0m ┊ \u001b[38;2;41;130;13m2024-Jun-08 06:00 UTC\u001b[92m F09\u001b[0m ┊ \u001b[38;2;255;153;0m\u001b[3mGRIB2 @ aws\u001b[0m ┊ \u001b[38;2;255;153;0m\u001b[3mIDX @ aws\u001b[0m\n",
      "Note: Returning a list of [3] xarray.Datasets because cfgrib opened with multiple hypercubes.\n",
      "✅ Found ┊ model=ifs ┊ \u001b[3mproduct=scda\u001b[0m ┊ \u001b[38;2;41;130;13m2024-Jun-08 06:00 UTC\u001b[92m F12\u001b[0m ┊ \u001b[38;2;255;153;0m\u001b[3mGRIB2 @ aws\u001b[0m ┊ \u001b[38;2;255;153;0m\u001b[3mIDX @ aws\u001b[0m\n",
      "Note: Returning a list of [3] xarray.Datasets because cfgrib opened with multiple hypercubes.\n",
      "✅ Found ┊ model=ifs ┊ \u001b[3mproduct=scda\u001b[0m ┊ \u001b[38;2;41;130;13m2024-Jun-08 06:00 UTC\u001b[92m F15\u001b[0m ┊ \u001b[38;2;255;153;0m\u001b[3mGRIB2 @ aws\u001b[0m ┊ \u001b[38;2;255;153;0m\u001b[3mIDX @ aws\u001b[0m\n",
      "Note: Returning a list of [3] xarray.Datasets because cfgrib opened with multiple hypercubes.\n",
      "✅ Found ┊ model=ifs ┊ \u001b[3mproduct=scda\u001b[0m ┊ \u001b[38;2;41;130;13m2024-Jun-08 06:00 UTC\u001b[92m F18\u001b[0m ┊ \u001b[38;2;255;153;0m\u001b[3mGRIB2 @ aws\u001b[0m ┊ \u001b[38;2;255;153;0m\u001b[3mIDX @ aws\u001b[0m\n",
      "Note: Returning a list of [3] xarray.Datasets because cfgrib opened with multiple hypercubes.\n",
      "✅ Found ┊ model=ifs ┊ \u001b[3mproduct=scda\u001b[0m ┊ \u001b[38;2;41;130;13m2024-Jun-08 06:00 UTC\u001b[92m F21\u001b[0m ┊ \u001b[38;2;255;153;0m\u001b[3mGRIB2 @ aws\u001b[0m ┊ \u001b[38;2;255;153;0m\u001b[3mIDX @ aws\u001b[0m\n",
      "Note: Returning a list of [3] xarray.Datasets because cfgrib opened with multiple hypercubes.\n"
     ]
    }
   ],
   "source": [
    "# a range of initialization dates\n",
    "dates = pd.date_range(start = '2024-06-05 6:00', end = '2024-06-08 6:00', freq = '1D')\n",
    "\n",
    "dfs = []\n",
    "for date in dates: # loop through dates\n",
    "    resource_data_temp = get_solar_forecast(\n",
    "        latitude=latitudes,\n",
    "        longitude=longitudes,\n",
    "        init_date=date, # <--\n",
    "        run_length=18, # 18 hours are included in the forecast\n",
    "        lead_time_to_start=3, # forecast starts 3 hours out from the init_date\n",
    "        model='ifs',\n",
    "    )\n",
    "    dfs.append(resource_data_temp) # append\n",
    "resource_data = pd.concat(dfs) # concatenate into one large dataframe\n",
    "resource_data['albedo'] = 0.2 # fill in albedo data"
   ]
  },
  {
   "cell_type": "code",
   "execution_count": 8,
   "metadata": {},
   "outputs": [],
   "source": [
    "# calculate power for each plant\n",
    "power_dfs = {}\n",
    "num_sites = len(plants_df.index)\n",
    "for i in range(num_sites):\n",
    "    plant_data_dict = plants_df.loc[i].dropna().to_dict()\n",
    "    resource_data_temp = resource_data[resource_data['point']==i].copy()\n",
    "    power_ac_expected, resource_data_updated = model_pv_power(\n",
    "        resource_data=resource_data_temp,\n",
    "        **plant_data_dict,\n",
    "    )\n",
    "    power_dfs[i] = power_ac_expected"
   ]
  },
  {
   "cell_type": "code",
   "execution_count": 9,
   "metadata": {},
   "outputs": [
    {
     "data": {
      "text/plain": [
       "<Axes: xlabel='valid_time'>"
      ]
     },
     "execution_count": 9,
     "metadata": {},
     "output_type": "execute_result"
    },
    {
     "data": {
      "image/png": "[encoded data removed]",
      "text/plain": [
       "<Figure size 640x480 with 1 Axes>"
      ]
     },
     "metadata": {},
     "output_type": "display_data"
    }
   ],
   "source": [
    "# plot\n",
    "pd.concat(power_dfs,axis=1).plot(drawstyle='steps-mid')"
   ]
  }
 ],
 "metadata": {
  "kernelspec": {
   "display_name": "pvsc_forecaster_2025",
   "language": "python",
   "name": "python3"
  },
  "language_info": {
   "codemirror_mode": {
    "name": "ipython",
    "version": 3
   },
   "file_extension": ".py",
   "mimetype": "text/x-python",
   "name": "python",
   "nbconvert_exporter": "python",
   "pygments_lexer": "ipython3",
   "version": "3.12.8"
  }
 },
 "nbformat": 4,
 "nbformat_minor": 2
}

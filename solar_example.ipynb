{
 "cells": [
  {
   "cell_type": "markdown",
   "metadata": {},
   "source": [
    "# Example solar power forecast\n",
    "\n",
    "Here's a quick example of a solar power forecast using NOAA HRRR, NOAA GFS, and ECMWF IFS.\n",
    "\n",
    "## Environment setup:\n",
    "Using miniforge:\n",
    "```\n",
    "conda create --name energy_forecasting_env2 python=3.11 -y\n",
    "conda activate energy_forecasting_env2\n",
    "conda install -c conda-forge herbie-data -y\n",
    "pip install pvlib ipykernel jupyter\n",
    "\n",
    "```\n",
    "\n",
    "If you get this error:\n",
    "```python\n",
    "RuntimeError: Cannot find the ecCodes library\n",
    "```\n",
    "\n",
    "Try \n",
    "\n",
    "```\n",
    "conda install -c conda-forge eccodes\n",
    "conda update -c conda-forge python-eccodes\n",
    "```\n",
    "\n",
    "in your environment in miniforge."
   ]
  },
  {
   "cell_type": "code",
   "execution_count": 1,
   "metadata": {},
   "outputs": [],
   "source": [
    "import matplotlib.pyplot as plt\n",
    "from pv_model import model_pv_power\n",
    "from forecast_solar import get_solar_forecast"
   ]
  },
  {
   "cell_type": "code",
   "execution_count": 2,
   "metadata": {},
   "outputs": [],
   "source": [
    "# specs for a generic 100 MW solar plant, single-axis tracking, thin-film (truetracking)\n",
    "latitude = 33.5\n",
    "longitude = -86.8\n",
    "mount_type = 'single-axis'\n",
    "gcr = 0.4\n",
    "nameplate_dc = 120\n",
    "nameplate_ac = 100\n",
    "dc_loss_fraction = 0.1\n",
    "gamma_pdc = -0.003\n",
    "shade_loss_model = 'linear'\n",
    "backtrack = False\n",
    "max_tracker_angle = 60"
   ]
  },
  {
   "cell_type": "code",
   "execution_count": 3,
   "metadata": {},
   "outputs": [
    {
     "name": "stdout",
     "output_type": "stream",
     "text": [
      "✅ Found ┊ model=hrrr ┊ \u001b[3mproduct=sfc\u001b[0m ┊ \u001b[38;2;41;130;13m2024-Jun-05 06:00 UTC\u001b[92m F03\u001b[0m ┊ \u001b[38;2;255;153;0m\u001b[3mGRIB2 @ aws\u001b[0m ┊ \u001b[38;2;255;153;0m\u001b[3mIDX @ aws\u001b[0m\n",
      "Note: Returning a list of [3] xarray.Datasets because cfgrib opened with multiple hypercubes.\n",
      "✅ Found ┊ model=hrrr ┊ \u001b[3mproduct=sfc\u001b[0m ┊ \u001b[38;2;41;130;13m2024-Jun-05 06:00 UTC\u001b[92m F04\u001b[0m ┊ \u001b[38;2;255;153;0m\u001b[3mGRIB2 @ aws\u001b[0m ┊ \u001b[38;2;255;153;0m\u001b[3mIDX @ aws\u001b[0m\n",
      "Note: Returning a list of [3] xarray.Datasets because cfgrib opened with multiple hypercubes.\n",
      "✅ Found ┊ model=hrrr ┊ \u001b[3mproduct=sfc\u001b[0m ┊ \u001b[38;2;41;130;13m2024-Jun-05 06:00 UTC\u001b[92m F05\u001b[0m ┊ \u001b[38;2;255;153;0m\u001b[3mGRIB2 @ aws\u001b[0m ┊ \u001b[38;2;255;153;0m\u001b[3mIDX @ aws\u001b[0m\n",
      "Note: Returning a list of [3] xarray.Datasets because cfgrib opened with multiple hypercubes.\n",
      "✅ Found ┊ model=hrrr ┊ \u001b[3mproduct=sfc\u001b[0m ┊ \u001b[38;2;41;130;13m2024-Jun-05 06:00 UTC\u001b[92m F06\u001b[0m ┊ \u001b[38;2;255;153;0m\u001b[3mGRIB2 @ aws\u001b[0m ┊ \u001b[38;2;255;153;0m\u001b[3mIDX @ aws\u001b[0m\n",
      "Note: Returning a list of [3] xarray.Datasets because cfgrib opened with multiple hypercubes.\n",
      "✅ Found ┊ model=hrrr ┊ \u001b[3mproduct=sfc\u001b[0m ┊ \u001b[38;2;41;130;13m2024-Jun-05 06:00 UTC\u001b[92m F07\u001b[0m ┊ \u001b[38;2;255;153;0m\u001b[3mGRIB2 @ aws\u001b[0m ┊ \u001b[38;2;255;153;0m\u001b[3mIDX @ aws\u001b[0m\n",
      "Note: Returning a list of [3] xarray.Datasets because cfgrib opened with multiple hypercubes.\n",
      "✅ Found ┊ model=hrrr ┊ \u001b[3mproduct=sfc\u001b[0m ┊ \u001b[38;2;41;130;13m2024-Jun-05 06:00 UTC\u001b[92m F08\u001b[0m ┊ \u001b[38;2;255;153;0m\u001b[3mGRIB2 @ aws\u001b[0m ┊ \u001b[38;2;255;153;0m\u001b[3mIDX @ aws\u001b[0m\n",
      "Note: Returning a list of [3] xarray.Datasets because cfgrib opened with multiple hypercubes.\n",
      "✅ Found ┊ model=hrrr ┊ \u001b[3mproduct=sfc\u001b[0m ┊ \u001b[38;2;41;130;13m2024-Jun-05 06:00 UTC\u001b[92m F09\u001b[0m ┊ \u001b[38;2;255;153;0m\u001b[3mGRIB2 @ aws\u001b[0m ┊ \u001b[38;2;255;153;0m\u001b[3mIDX @ aws\u001b[0m\n",
      "Note: Returning a list of [3] xarray.Datasets because cfgrib opened with multiple hypercubes.\n",
      "✅ Found ┊ model=hrrr ┊ \u001b[3mproduct=sfc\u001b[0m ┊ \u001b[38;2;41;130;13m2024-Jun-05 06:00 UTC\u001b[92m F10\u001b[0m ┊ \u001b[38;2;255;153;0m\u001b[3mGRIB2 @ aws\u001b[0m ┊ \u001b[38;2;255;153;0m\u001b[3mIDX @ aws\u001b[0m\n",
      "Note: Returning a list of [3] xarray.Datasets because cfgrib opened with multiple hypercubes.\n",
      "✅ Found ┊ model=hrrr ┊ \u001b[3mproduct=sfc\u001b[0m ┊ \u001b[38;2;41;130;13m2024-Jun-05 06:00 UTC\u001b[92m F11\u001b[0m ┊ \u001b[38;2;255;153;0m\u001b[3mGRIB2 @ aws\u001b[0m ┊ \u001b[38;2;255;153;0m\u001b[3mIDX @ aws\u001b[0m\n",
      "Note: Returning a list of [3] xarray.Datasets because cfgrib opened with multiple hypercubes.\n",
      "✅ Found ┊ model=hrrr ┊ \u001b[3mproduct=sfc\u001b[0m ┊ \u001b[38;2;41;130;13m2024-Jun-05 06:00 UTC\u001b[92m F12\u001b[0m ┊ \u001b[38;2;255;153;0m\u001b[3mGRIB2 @ aws\u001b[0m ┊ \u001b[38;2;255;153;0m\u001b[3mIDX @ aws\u001b[0m\n",
      "Note: Returning a list of [3] xarray.Datasets because cfgrib opened with multiple hypercubes.\n",
      "✅ Found ┊ model=hrrr ┊ \u001b[3mproduct=sfc\u001b[0m ┊ \u001b[38;2;41;130;13m2024-Jun-05 06:00 UTC\u001b[92m F13\u001b[0m ┊ \u001b[38;2;255;153;0m\u001b[3mGRIB2 @ aws\u001b[0m ┊ \u001b[38;2;255;153;0m\u001b[3mIDX @ aws\u001b[0m\n",
      "Note: Returning a list of [3] xarray.Datasets because cfgrib opened with multiple hypercubes.\n",
      "✅ Found ┊ model=hrrr ┊ \u001b[3mproduct=sfc\u001b[0m ┊ \u001b[38;2;41;130;13m2024-Jun-05 06:00 UTC\u001b[92m F14\u001b[0m ┊ \u001b[38;2;255;153;0m\u001b[3mGRIB2 @ aws\u001b[0m ┊ \u001b[38;2;255;153;0m\u001b[3mIDX @ aws\u001b[0m\n",
      "Note: Returning a list of [3] xarray.Datasets because cfgrib opened with multiple hypercubes.\n",
      "✅ Found ┊ model=hrrr ┊ \u001b[3mproduct=sfc\u001b[0m ┊ \u001b[38;2;41;130;13m2024-Jun-05 06:00 UTC\u001b[92m F15\u001b[0m ┊ \u001b[38;2;255;153;0m\u001b[3mGRIB2 @ aws\u001b[0m ┊ \u001b[38;2;255;153;0m\u001b[3mIDX @ aws\u001b[0m\n",
      "Note: Returning a list of [3] xarray.Datasets because cfgrib opened with multiple hypercubes.\n",
      "✅ Found ┊ model=hrrr ┊ \u001b[3mproduct=sfc\u001b[0m ┊ \u001b[38;2;41;130;13m2024-Jun-05 06:00 UTC\u001b[92m F16\u001b[0m ┊ \u001b[38;2;255;153;0m\u001b[3mGRIB2 @ aws\u001b[0m ┊ \u001b[38;2;255;153;0m\u001b[3mIDX @ aws\u001b[0m\n",
      "Note: Returning a list of [3] xarray.Datasets because cfgrib opened with multiple hypercubes.\n",
      "✅ Found ┊ model=hrrr ┊ \u001b[3mproduct=sfc\u001b[0m ┊ \u001b[38;2;41;130;13m2024-Jun-05 06:00 UTC\u001b[92m F17\u001b[0m ┊ \u001b[38;2;255;153;0m\u001b[3mGRIB2 @ aws\u001b[0m ┊ \u001b[38;2;255;153;0m\u001b[3mIDX @ aws\u001b[0m\n",
      "Note: Returning a list of [3] xarray.Datasets because cfgrib opened with multiple hypercubes.\n",
      "✅ Found ┊ model=hrrr ┊ \u001b[3mproduct=sfc\u001b[0m ┊ \u001b[38;2;41;130;13m2024-Jun-05 06:00 UTC\u001b[92m F18\u001b[0m ┊ \u001b[38;2;255;153;0m\u001b[3mGRIB2 @ aws\u001b[0m ┊ \u001b[38;2;255;153;0m\u001b[3mIDX @ aws\u001b[0m\n",
      "Note: Returning a list of [3] xarray.Datasets because cfgrib opened with multiple hypercubes.\n",
      "✅ Found ┊ model=hrrr ┊ \u001b[3mproduct=sfc\u001b[0m ┊ \u001b[38;2;41;130;13m2024-Jun-05 06:00 UTC\u001b[92m F19\u001b[0m ┊ \u001b[38;2;255;153;0m\u001b[3mGRIB2 @ aws\u001b[0m ┊ \u001b[38;2;255;153;0m\u001b[3mIDX @ aws\u001b[0m\n",
      "Note: Returning a list of [3] xarray.Datasets because cfgrib opened with multiple hypercubes.\n",
      "✅ Found ┊ model=hrrr ┊ \u001b[3mproduct=sfc\u001b[0m ┊ \u001b[38;2;41;130;13m2024-Jun-05 06:00 UTC\u001b[92m F20\u001b[0m ┊ \u001b[38;2;255;153;0m\u001b[3mGRIB2 @ aws\u001b[0m ┊ \u001b[38;2;255;153;0m\u001b[3mIDX @ aws\u001b[0m\n",
      "Note: Returning a list of [3] xarray.Datasets because cfgrib opened with multiple hypercubes.\n"
     ]
    }
   ],
   "source": [
    "# get an intra-day forecast based on NOAA HRRR\n",
    "init_date = '2024-06-05 6:00'\n",
    "resource_data_hrrr = get_solar_forecast(\n",
    "    latitude,\n",
    "    longitude,\n",
    "    init_date,\n",
    "    length_hours=18, # 18 hours are included in the forecast\n",
    "    lead_time_hours=3, # forecast starts 3 hours out from the init_date\n",
    "    model='hrrr',\n",
    ")\n",
    "resource_data_hrrr['albedo'] = 0.2 # set a value for albedo"
   ]
  },
  {
   "cell_type": "code",
   "execution_count": 4,
   "metadata": {},
   "outputs": [
    {
     "data": {
      "text/html": [
       "<div>\n",
       "<style scoped>\n",
       "    .dataframe tbody tr th:only-of-type {\n",
       "        vertical-align: middle;\n",
       "    }\n",
       "\n",
       "    .dataframe tbody tr th {\n",
       "        vertical-align: top;\n",
       "    }\n",
       "\n",
       "    .dataframe thead th {\n",
       "        text-align: right;\n",
       "    }\n",
       "</style>\n",
       "<table border=\"1\" class=\"dataframe\">\n",
       "  <thead>\n",
       "    <tr style=\"text-align: right;\">\n",
       "      <th></th>\n",
       "      <th>point</th>\n",
       "      <th>temp_air</th>\n",
       "      <th>wind_speed</th>\n",
       "      <th>csi</th>\n",
       "      <th>ghi_clear</th>\n",
       "      <th>ghi</th>\n",
       "      <th>dni</th>\n",
       "      <th>dhi</th>\n",
       "      <th>albedo</th>\n",
       "    </tr>\n",
       "    <tr>\n",
       "      <th>valid_time</th>\n",
       "      <th></th>\n",
       "      <th></th>\n",
       "      <th></th>\n",
       "      <th></th>\n",
       "      <th></th>\n",
       "      <th></th>\n",
       "      <th></th>\n",
       "      <th></th>\n",
       "      <th></th>\n",
       "    </tr>\n",
       "  </thead>\n",
       "  <tbody>\n",
       "    <tr>\n",
       "      <th>2024-06-05 09:30:00+00:00</th>\n",
       "      <td>0</td>\n",
       "      <td>22.787605</td>\n",
       "      <td>2.675475</td>\n",
       "      <td>0.000000</td>\n",
       "      <td>0.000000</td>\n",
       "      <td>0.000000</td>\n",
       "      <td>0.000000</td>\n",
       "      <td>0.000000</td>\n",
       "      <td>0.2</td>\n",
       "    </tr>\n",
       "    <tr>\n",
       "      <th>2024-06-05 10:30:00+00:00</th>\n",
       "      <td>0</td>\n",
       "      <td>22.600943</td>\n",
       "      <td>2.094798</td>\n",
       "      <td>0.195489</td>\n",
       "      <td>0.000000</td>\n",
       "      <td>0.505256</td>\n",
       "      <td>0.000000</td>\n",
       "      <td>0.505256</td>\n",
       "      <td>0.2</td>\n",
       "    </tr>\n",
       "    <tr>\n",
       "      <th>2024-06-05 11:30:00+00:00</th>\n",
       "      <td>0</td>\n",
       "      <td>22.500980</td>\n",
       "      <td>2.672233</td>\n",
       "      <td>0.430563</td>\n",
       "      <td>122.451151</td>\n",
       "      <td>52.695540</td>\n",
       "      <td>8.732968</td>\n",
       "      <td>51.304514</td>\n",
       "      <td>0.2</td>\n",
       "    </tr>\n",
       "    <tr>\n",
       "      <th>2024-06-05 12:30:00+00:00</th>\n",
       "      <td>0</td>\n",
       "      <td>22.818373</td>\n",
       "      <td>2.967941</td>\n",
       "      <td>0.437754</td>\n",
       "      <td>336.099409</td>\n",
       "      <td>146.211977</td>\n",
       "      <td>22.777605</td>\n",
       "      <td>138.015583</td>\n",
       "      <td>0.2</td>\n",
       "    </tr>\n",
       "    <tr>\n",
       "      <th>2024-06-05 13:30:00+00:00</th>\n",
       "      <td>0</td>\n",
       "      <td>23.233158</td>\n",
       "      <td>3.010693</td>\n",
       "      <td>0.322491</td>\n",
       "      <td>543.243465</td>\n",
       "      <td>174.333225</td>\n",
       "      <td>7.435198</td>\n",
       "      <td>170.241296</td>\n",
       "      <td>0.2</td>\n",
       "    </tr>\n",
       "  </tbody>\n",
       "</table>\n",
       "</div>"
      ],
      "text/plain": [
       "                           point   temp_air  wind_speed       csi   ghi_clear  \\\n",
       "valid_time                                                                      \n",
       "2024-06-05 09:30:00+00:00      0  22.787605    2.675475  0.000000    0.000000   \n",
       "2024-06-05 10:30:00+00:00      0  22.600943    2.094798  0.195489    0.000000   \n",
       "2024-06-05 11:30:00+00:00      0  22.500980    2.672233  0.430563  122.451151   \n",
       "2024-06-05 12:30:00+00:00      0  22.818373    2.967941  0.437754  336.099409   \n",
       "2024-06-05 13:30:00+00:00      0  23.233158    3.010693  0.322491  543.243465   \n",
       "\n",
       "                                  ghi        dni         dhi  albedo  \n",
       "valid_time                                                            \n",
       "2024-06-05 09:30:00+00:00    0.000000   0.000000    0.000000     0.2  \n",
       "2024-06-05 10:30:00+00:00    0.505256   0.000000    0.505256     0.2  \n",
       "2024-06-05 11:30:00+00:00   52.695540   8.732968   51.304514     0.2  \n",
       "2024-06-05 12:30:00+00:00  146.211977  22.777605  138.015583     0.2  \n",
       "2024-06-05 13:30:00+00:00  174.333225   7.435198  170.241296     0.2  "
      ]
     },
     "execution_count": 4,
     "metadata": {},
     "output_type": "execute_result"
    }
   ],
   "source": [
    "resource_data_hrrr.head()"
   ]
  },
  {
   "cell_type": "code",
   "execution_count": 5,
   "metadata": {},
   "outputs": [],
   "source": [
    "# model power using the forecasted resource data\n",
    "power_ac_forecast_hrrr, resource_data_hrrr_updated = model_pv_power(\n",
    "    resource_data=resource_data_hrrr,\n",
    "    latitude=latitude,\n",
    "    longitude=longitude,\n",
    "    mount_type=mount_type,\n",
    "    gcr=gcr,\n",
    "    nameplate_dc=nameplate_dc,\n",
    "    nameplate_ac=nameplate_ac,\n",
    "    dc_loss_fraction=dc_loss_fraction,\n",
    "    gamma_pdc=gamma_pdc,\n",
    "    shade_loss_model=shade_loss_model,\n",
    "    backtrack=backtrack,\n",
    "    max_tracker_angle=max_tracker_angle,\n",
    ")"
   ]
  },
  {
   "cell_type": "code",
   "execution_count": 6,
   "metadata": {},
   "outputs": [
    {
     "data": {
      "text/plain": [
       "<Axes: xlabel='valid_time'>"
      ]
     },
     "execution_count": 6,
     "metadata": {},
     "output_type": "execute_result"
    },
    {
     "data": {
      "image/png": "[encoded data removed]",
      "text/plain": [
       "<Figure size 640x480 with 1 Axes>"
      ]
     },
     "metadata": {},
     "output_type": "display_data"
    }
   ],
   "source": [
    "# plot the result\n",
    "power_ac_forecast_hrrr.plot(drawstyle='steps-mid')"
   ]
  },
  {
   "cell_type": "code",
   "execution_count": 7,
   "metadata": {},
   "outputs": [
    {
     "name": "stdout",
     "output_type": "stream",
     "text": [
      "✅ Found ┊ model=gfs ┊ \u001b[3mproduct=pgrb2.0p25\u001b[0m ┊ \u001b[38;2;41;130;13m2024-Jun-05 06:00 UTC\u001b[92m F03\u001b[0m ┊ \u001b[38;2;255;153;0m\u001b[3mGRIB2 @ aws\u001b[0m ┊ \u001b[38;2;255;153;0m\u001b[3mIDX @ aws\u001b[0m\n",
      "Note: Returning a list of [3] xarray.Datasets because cfgrib opened with multiple hypercubes.\n",
      "✅ Found ┊ model=gfs ┊ \u001b[3mproduct=pgrb2.0p25\u001b[0m ┊ \u001b[38;2;41;130;13m2024-Jun-05 06:00 UTC\u001b[92m F04\u001b[0m ┊ \u001b[38;2;255;153;0m\u001b[3mGRIB2 @ aws\u001b[0m ┊ \u001b[38;2;255;153;0m\u001b[3mIDX @ aws\u001b[0m\n",
      "Note: Returning a list of [3] xarray.Datasets because cfgrib opened with multiple hypercubes.\n",
      "✅ Found ┊ model=gfs ┊ \u001b[3mproduct=pgrb2.0p25\u001b[0m ┊ \u001b[38;2;41;130;13m2024-Jun-05 06:00 UTC\u001b[92m F05\u001b[0m ┊ \u001b[38;2;255;153;0m\u001b[3mGRIB2 @ aws\u001b[0m ┊ \u001b[38;2;255;153;0m\u001b[3mIDX @ aws\u001b[0m\n",
      "Note: Returning a list of [3] xarray.Datasets because cfgrib opened with multiple hypercubes.\n",
      "✅ Found ┊ model=gfs ┊ \u001b[3mproduct=pgrb2.0p25\u001b[0m ┊ \u001b[38;2;41;130;13m2024-Jun-05 06:00 UTC\u001b[92m F06\u001b[0m ┊ \u001b[38;2;255;153;0m\u001b[3mGRIB2 @ aws\u001b[0m ┊ \u001b[38;2;255;153;0m\u001b[3mIDX @ aws\u001b[0m\n"
     ]
    },
    {
     "name": "stderr",
     "output_type": "stream",
     "text": [
      "c:\\Users\\willh\\miniforge3\\envs\\pvsc_forecaster_2025\\Lib\\site-packages\\herbie\\core.py:1112: UserWarning: Will not remove GRIB file because it previously existed.\n",
      "  warnings.warn(\"Will not remove GRIB file because it previously existed.\")\n"
     ]
    },
    {
     "name": "stdout",
     "output_type": "stream",
     "text": [
      "Note: Returning a list of [3] xarray.Datasets because cfgrib opened with multiple hypercubes.\n",
      "✅ Found ┊ model=gfs ┊ \u001b[3mproduct=pgrb2.0p25\u001b[0m ┊ \u001b[38;2;41;130;13m2024-Jun-05 06:00 UTC\u001b[92m F07\u001b[0m ┊ \u001b[38;2;255;153;0m\u001b[3mGRIB2 @ aws\u001b[0m ┊ \u001b[38;2;255;153;0m\u001b[3mIDX @ aws\u001b[0m\n",
      "Note: Returning a list of [3] xarray.Datasets because cfgrib opened with multiple hypercubes.\n",
      "✅ Found ┊ model=gfs ┊ \u001b[3mproduct=pgrb2.0p25\u001b[0m ┊ \u001b[38;2;41;130;13m2024-Jun-05 06:00 UTC\u001b[92m F08\u001b[0m ┊ \u001b[38;2;255;153;0m\u001b[3mGRIB2 @ aws\u001b[0m ┊ \u001b[38;2;255;153;0m\u001b[3mIDX @ aws\u001b[0m\n",
      "Note: Returning a list of [3] xarray.Datasets because cfgrib opened with multiple hypercubes.\n",
      "✅ Found ┊ model=gfs ┊ \u001b[3mproduct=pgrb2.0p25\u001b[0m ┊ \u001b[38;2;41;130;13m2024-Jun-05 06:00 UTC\u001b[92m F09\u001b[0m ┊ \u001b[38;2;255;153;0m\u001b[3mGRIB2 @ aws\u001b[0m ┊ \u001b[38;2;255;153;0m\u001b[3mIDX @ aws\u001b[0m\n",
      "Note: Returning a list of [3] xarray.Datasets because cfgrib opened with multiple hypercubes.\n",
      "✅ Found ┊ model=gfs ┊ \u001b[3mproduct=pgrb2.0p25\u001b[0m ┊ \u001b[38;2;41;130;13m2024-Jun-05 06:00 UTC\u001b[92m F10\u001b[0m ┊ \u001b[38;2;255;153;0m\u001b[3mGRIB2 @ aws\u001b[0m ┊ \u001b[38;2;255;153;0m\u001b[3mIDX @ aws\u001b[0m\n",
      "Note: Returning a list of [3] xarray.Datasets because cfgrib opened with multiple hypercubes.\n",
      "✅ Found ┊ model=gfs ┊ \u001b[3mproduct=pgrb2.0p25\u001b[0m ┊ \u001b[38;2;41;130;13m2024-Jun-05 06:00 UTC\u001b[92m F11\u001b[0m ┊ \u001b[38;2;255;153;0m\u001b[3mGRIB2 @ aws\u001b[0m ┊ \u001b[38;2;255;153;0m\u001b[3mIDX @ aws\u001b[0m\n",
      "Note: Returning a list of [3] xarray.Datasets because cfgrib opened with multiple hypercubes.\n",
      "✅ Found ┊ model=gfs ┊ \u001b[3mproduct=pgrb2.0p25\u001b[0m ┊ \u001b[38;2;41;130;13m2024-Jun-05 06:00 UTC\u001b[92m F12\u001b[0m ┊ \u001b[38;2;255;153;0m\u001b[3mGRIB2 @ aws\u001b[0m ┊ \u001b[38;2;255;153;0m\u001b[3mIDX @ aws\u001b[0m\n",
      "Note: Returning a list of [3] xarray.Datasets because cfgrib opened with multiple hypercubes.\n",
      "✅ Found ┊ model=gfs ┊ \u001b[3mproduct=pgrb2.0p25\u001b[0m ┊ \u001b[38;2;41;130;13m2024-Jun-05 06:00 UTC\u001b[92m F13\u001b[0m ┊ \u001b[38;2;255;153;0m\u001b[3mGRIB2 @ aws\u001b[0m ┊ \u001b[38;2;255;153;0m\u001b[3mIDX @ aws\u001b[0m\n",
      "Note: Returning a list of [3] xarray.Datasets because cfgrib opened with multiple hypercubes.\n",
      "✅ Found ┊ model=gfs ┊ \u001b[3mproduct=pgrb2.0p25\u001b[0m ┊ \u001b[38;2;41;130;13m2024-Jun-05 06:00 UTC\u001b[92m F14\u001b[0m ┊ \u001b[38;2;255;153;0m\u001b[3mGRIB2 @ aws\u001b[0m ┊ \u001b[38;2;255;153;0m\u001b[3mIDX @ aws\u001b[0m\n",
      "Note: Returning a list of [3] xarray.Datasets because cfgrib opened with multiple hypercubes.\n",
      "✅ Found ┊ model=gfs ┊ \u001b[3mproduct=pgrb2.0p25\u001b[0m ┊ \u001b[38;2;41;130;13m2024-Jun-05 06:00 UTC\u001b[92m F15\u001b[0m ┊ \u001b[38;2;255;153;0m\u001b[3mGRIB2 @ aws\u001b[0m ┊ \u001b[38;2;255;153;0m\u001b[3mIDX @ aws\u001b[0m\n",
      "Note: Returning a list of [3] xarray.Datasets because cfgrib opened with multiple hypercubes.\n",
      "✅ Found ┊ model=gfs ┊ \u001b[3mproduct=pgrb2.0p25\u001b[0m ┊ \u001b[38;2;41;130;13m2024-Jun-05 06:00 UTC\u001b[92m F16\u001b[0m ┊ \u001b[38;2;255;153;0m\u001b[3mGRIB2 @ aws\u001b[0m ┊ \u001b[38;2;255;153;0m\u001b[3mIDX @ aws\u001b[0m\n",
      "Note: Returning a list of [3] xarray.Datasets because cfgrib opened with multiple hypercubes.\n",
      "✅ Found ┊ model=gfs ┊ \u001b[3mproduct=pgrb2.0p25\u001b[0m ┊ \u001b[38;2;41;130;13m2024-Jun-05 06:00 UTC\u001b[92m F17\u001b[0m ┊ \u001b[38;2;255;153;0m\u001b[3mGRIB2 @ aws\u001b[0m ┊ \u001b[38;2;255;153;0m\u001b[3mIDX @ aws\u001b[0m\n",
      "Note: Returning a list of [3] xarray.Datasets because cfgrib opened with multiple hypercubes.\n",
      "✅ Found ┊ model=gfs ┊ \u001b[3mproduct=pgrb2.0p25\u001b[0m ┊ \u001b[38;2;41;130;13m2024-Jun-05 06:00 UTC\u001b[92m F18\u001b[0m ┊ \u001b[38;2;255;153;0m\u001b[3mGRIB2 @ aws\u001b[0m ┊ \u001b[38;2;255;153;0m\u001b[3mIDX @ aws\u001b[0m\n",
      "Note: Returning a list of [3] xarray.Datasets because cfgrib opened with multiple hypercubes.\n",
      "✅ Found ┊ model=gfs ┊ \u001b[3mproduct=pgrb2.0p25\u001b[0m ┊ \u001b[38;2;41;130;13m2024-Jun-05 06:00 UTC\u001b[92m F19\u001b[0m ┊ \u001b[38;2;255;153;0m\u001b[3mGRIB2 @ aws\u001b[0m ┊ \u001b[38;2;255;153;0m\u001b[3mIDX @ aws\u001b[0m\n",
      "Note: Returning a list of [3] xarray.Datasets because cfgrib opened with multiple hypercubes.\n",
      "✅ Found ┊ model=gfs ┊ \u001b[3mproduct=pgrb2.0p25\u001b[0m ┊ \u001b[38;2;41;130;13m2024-Jun-05 06:00 UTC\u001b[92m F20\u001b[0m ┊ \u001b[38;2;255;153;0m\u001b[3mGRIB2 @ aws\u001b[0m ┊ \u001b[38;2;255;153;0m\u001b[3mIDX @ aws\u001b[0m\n",
      "Note: Returning a list of [3] xarray.Datasets because cfgrib opened with multiple hypercubes.\n"
     ]
    }
   ],
   "source": [
    "# get an intra-day forecast based on NOAA GFS\n",
    "resource_data_gfs = get_solar_forecast(\n",
    "    latitude,\n",
    "    longitude,\n",
    "    init_date,\n",
    "    length_hours=18, # 18 hours are included in the forecast\n",
    "    lead_time_hours=3, # forecast starts 3 hours out from the init_date\n",
    "    model='gfs',\n",
    ")\n",
    "resource_data_gfs['albedo'] = 0.2 # set a value for albedo"
   ]
  },
  {
   "cell_type": "code",
   "execution_count": 8,
   "metadata": {},
   "outputs": [],
   "source": [
    "# model power using the forecasted resource data\n",
    "power_ac_forecast_gfs, resource_data_gfs_updated = model_pv_power(\n",
    "    resource_data=resource_data_gfs,\n",
    "    latitude=latitude,\n",
    "    longitude=longitude,\n",
    "    mount_type=mount_type,\n",
    "    gcr=gcr,\n",
    "    nameplate_dc=nameplate_dc,\n",
    "    nameplate_ac=nameplate_ac,\n",
    "    dc_loss_fraction=dc_loss_fraction,\n",
    "    gamma_pdc=gamma_pdc,\n",
    "    shade_loss_model=shade_loss_model,\n",
    "    backtrack=backtrack,\n",
    "    max_tracker_angle=max_tracker_angle,\n",
    ")"
   ]
  },
  {
   "cell_type": "code",
   "execution_count": 9,
   "metadata": {},
   "outputs": [
    {
     "data": {
      "image/png": "[encoded data removed]",
      "text/plain": [
       "<Figure size 640x480 with 1 Axes>"
      ]
     },
     "metadata": {},
     "output_type": "display_data"
    }
   ],
   "source": [
    "# plot the result\n",
    "power_ac_forecast_hrrr.plot(label='hrrr', drawstyle='steps-mid')\n",
    "power_ac_forecast_gfs.plot(label='gfs',drawstyle='steps-mid')\n",
    "plt.legend()\n",
    "plt.show()"
   ]
  },
  {
   "cell_type": "code",
   "execution_count": 10,
   "metadata": {},
   "outputs": [
    {
     "name": "stdout",
     "output_type": "stream",
     "text": [
      "✅ Found ┊ model=ifs ┊ \u001b[3mproduct=scda\u001b[0m ┊ \u001b[38;2;41;130;13m2024-Jun-05 06:00 UTC\u001b[92m F03\u001b[0m ┊ \u001b[38;2;255;153;0m\u001b[3mGRIB2 @ aws\u001b[0m ┊ \u001b[38;2;255;153;0m\u001b[3mIDX @ aws\u001b[0m\n",
      "Note: Returning a list of [3] xarray.Datasets because cfgrib opened with multiple hypercubes.\n",
      "✅ Found ┊ model=ifs ┊ \u001b[3mproduct=scda\u001b[0m ┊ \u001b[38;2;41;130;13m2024-Jun-05 06:00 UTC\u001b[92m F06\u001b[0m ┊ \u001b[38;2;255;153;0m\u001b[3mGRIB2 @ aws\u001b[0m ┊ \u001b[38;2;255;153;0m\u001b[3mIDX @ aws\u001b[0m\n"
     ]
    },
    {
     "name": "stderr",
     "output_type": "stream",
     "text": [
      "c:\\Users\\willh\\miniforge3\\envs\\pvsc_forecaster_2025\\Lib\\site-packages\\herbie\\core.py:1112: UserWarning: Will not remove GRIB file because it previously existed.\n",
      "  warnings.warn(\"Will not remove GRIB file because it previously existed.\")\n"
     ]
    },
    {
     "name": "stdout",
     "output_type": "stream",
     "text": [
      "Note: Returning a list of [3] xarray.Datasets because cfgrib opened with multiple hypercubes.\n",
      "✅ Found ┊ model=ifs ┊ \u001b[3mproduct=scda\u001b[0m ┊ \u001b[38;2;41;130;13m2024-Jun-05 06:00 UTC\u001b[92m F09\u001b[0m ┊ \u001b[38;2;255;153;0m\u001b[3mGRIB2 @ aws\u001b[0m ┊ \u001b[38;2;255;153;0m\u001b[3mIDX @ aws\u001b[0m\n"
     ]
    },
    {
     "name": "stderr",
     "output_type": "stream",
     "text": [
      "c:\\Users\\willh\\miniforge3\\envs\\pvsc_forecaster_2025\\Lib\\site-packages\\herbie\\core.py:1112: UserWarning: Will not remove GRIB file because it previously existed.\n",
      "  warnings.warn(\"Will not remove GRIB file because it previously existed.\")\n"
     ]
    },
    {
     "name": "stdout",
     "output_type": "stream",
     "text": [
      "Note: Returning a list of [3] xarray.Datasets because cfgrib opened with multiple hypercubes.\n",
      "✅ Found ┊ model=ifs ┊ \u001b[3mproduct=scda\u001b[0m ┊ \u001b[38;2;41;130;13m2024-Jun-05 06:00 UTC\u001b[92m F12\u001b[0m ┊ \u001b[38;2;255;153;0m\u001b[3mGRIB2 @ aws\u001b[0m ┊ \u001b[38;2;255;153;0m\u001b[3mIDX @ aws\u001b[0m\n",
      "Note: Returning a list of [3] xarray.Datasets because cfgrib opened with multiple hypercubes.\n",
      "✅ Found ┊ model=ifs ┊ \u001b[3mproduct=scda\u001b[0m ┊ \u001b[38;2;41;130;13m2024-Jun-05 06:00 UTC\u001b[92m F15\u001b[0m ┊ \u001b[38;2;255;153;0m\u001b[3mGRIB2 @ aws\u001b[0m ┊ \u001b[38;2;255;153;0m\u001b[3mIDX @ aws\u001b[0m\n",
      "Note: Returning a list of [3] xarray.Datasets because cfgrib opened with multiple hypercubes.\n",
      "✅ Found ┊ model=ifs ┊ \u001b[3mproduct=scda\u001b[0m ┊ \u001b[38;2;41;130;13m2024-Jun-05 06:00 UTC\u001b[92m F18\u001b[0m ┊ \u001b[38;2;255;153;0m\u001b[3mGRIB2 @ aws\u001b[0m ┊ \u001b[38;2;255;153;0m\u001b[3mIDX @ aws\u001b[0m\n",
      "Note: Returning a list of [3] xarray.Datasets because cfgrib opened with multiple hypercubes.\n",
      "✅ Found ┊ model=ifs ┊ \u001b[3mproduct=scda\u001b[0m ┊ \u001b[38;2;41;130;13m2024-Jun-05 06:00 UTC\u001b[92m F21\u001b[0m ┊ \u001b[38;2;255;153;0m\u001b[3mGRIB2 @ aws\u001b[0m ┊ \u001b[38;2;255;153;0m\u001b[3mIDX @ aws\u001b[0m\n",
      "Note: Returning a list of [3] xarray.Datasets because cfgrib opened with multiple hypercubes.\n"
     ]
    }
   ],
   "source": [
    "# get an intra-day forecast based on ECMWF IFS\n",
    "resource_data_ifs = get_solar_forecast(\n",
    "    latitude,\n",
    "    longitude,\n",
    "    init_date,\n",
    "    length_hours=18, # 18 hours are included in the forecast\n",
    "    lead_time_hours=3, # forecast starts 3 hours out from the init_date\n",
    "    model='ifs',\n",
    ")\n",
    "resource_data_ifs['albedo'] = 0.2 # set a value for albedo"
   ]
  },
  {
   "cell_type": "code",
   "execution_count": 11,
   "metadata": {},
   "outputs": [],
   "source": [
    "# model power using the forecasted resource data\n",
    "power_ac_forecast_ifs, resource_data_ifs_updated = model_pv_power(\n",
    "    resource_data=resource_data_ifs,\n",
    "    latitude=latitude,\n",
    "    longitude=longitude,\n",
    "    mount_type=mount_type,\n",
    "    gcr=gcr,\n",
    "    nameplate_dc=nameplate_dc,\n",
    "    nameplate_ac=nameplate_ac,\n",
    "    dc_loss_fraction=dc_loss_fraction,\n",
    "    gamma_pdc=gamma_pdc,\n",
    "    shade_loss_model=shade_loss_model,\n",
    "    backtrack=backtrack,\n",
    "    max_tracker_angle=max_tracker_angle,\n",
    ")"
   ]
  },
  {
   "cell_type": "code",
   "execution_count": 12,
   "metadata": {},
   "outputs": [
    {
     "data": {
      "image/png": "[encoded data removed]",
      "text/plain": [
       "<Figure size 640x480 with 1 Axes>"
      ]
     },
     "metadata": {},
     "output_type": "display_data"
    }
   ],
   "source": [
    "# plot the result\n",
    "power_ac_forecast_hrrr.plot(drawstyle='steps-mid', label='hrrr')\n",
    "power_ac_forecast_gfs.plot(drawstyle='steps-mid', label='gfs')\n",
    "power_ac_forecast_ifs.plot(drawstyle='steps-mid', label='ifs')\n",
    "plt.legend()\n",
    "plt.ylabel('power (MW)')\n",
    "plt.xlabel('valid time (UTC)')\n",
    "plt.show()"
   ]
  }
 ],
 "metadata": {
  "kernelspec": {
   "display_name": "pvsc_forecaster_2025",
   "language": "python",
   "name": "python3"
  },
  "language_info": {
   "codemirror_mode": {
    "name": "ipython",
    "version": 3
   },
   "file_extension": ".py",
   "mimetype": "text/x-python",
   "name": "python",
   "nbconvert_exporter": "python",
   "pygments_lexer": "ipython3",
   "version": "3.12.8"
  }
 },
 "nbformat": 4,
 "nbformat_minor": 2
}
